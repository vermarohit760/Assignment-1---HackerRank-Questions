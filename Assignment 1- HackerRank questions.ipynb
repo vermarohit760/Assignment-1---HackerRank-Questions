{
 "cells": [
  {
   "cell_type": "code",
   "execution_count": null,
   "id": "8e86977d",
   "metadata": {},
   "outputs": [],
   "source": [
    "n=int(input())\n",
    "z={}\n",
    "for x in range(n):\n",
    "    y=input().split( )\n",
    "    z[y[0]]=[float(y[1]),float(y[2]),float(y[3])]\n",
    "m=input()\n",
    "g=z.get(m)\n",
    "h=(g[0]+g[1]+g[2])/3\n",
    "print(format(h,'.2f'))"
   ]
  },
  {
   "cell_type": "code",
   "execution_count": null,
   "id": "b0166010",
   "metadata": {},
   "outputs": [],
   "source": [
    "def split_and_join(line):\n",
    "    a=line.split(' ')\n",
    "    a='-'.join(a)\n",
    "    return a\n",
    "\n",
    "if __name__ == '__main__':\n",
    "    line = input()\n",
    "    result = split_and_join(line)\n",
    "    print(result)"
   ]
  },
  {
   "cell_type": "code",
   "execution_count": null,
   "id": "b4ad1058",
   "metadata": {},
   "outputs": [],
   "source": [
    "a=int(input())\n",
    "n=set(map(int,input().split()))\n",
    "b=int(input())\n",
    "m=set(map(int,input().split()))\n",
    "x=len(n.intersection(m))\n",
    "print(x)\n"
   ]
  },
  {
   "cell_type": "code",
   "execution_count": null,
   "id": "18056d99",
   "metadata": {},
   "outputs": [],
   "source": [
    "x=int(input())\n",
    "m=input()\n",
    "y=m.split( )\n",
    "ints=[]\n",
    "for a in y:\n",
    "    g=int(a)\n",
    "    ints.append(g)\n",
    "h=set(ints)\n",
    "j=list(sorted(h))\n",
    "print(j[-2])\n"
   ]
  },
  {
   "cell_type": "code",
   "execution_count": null,
   "id": "4a5fce5c",
   "metadata": {},
   "outputs": [],
   "source": [
    "def swap_case(s):\n",
    "    a=''\n",
    "    for i in s:\n",
    "        if i.isupper():\n",
    "            a=a+i.lower()\n",
    "        else:\n",
    "            a=a+i.upper()\n",
    "    return a\n",
    "\n",
    "if __name__ == '__main__':\n",
    "    s = input()\n",
    "    result = swap_case(s)\n",
    "    print(result)"
   ]
  },
  {
   "cell_type": "code",
   "execution_count": null,
   "id": "bd60d5ba",
   "metadata": {},
   "outputs": [],
   "source": [
    "if __name__ == '__main__':\n",
    "    a = int(input())\n",
    "    b = int(input())\n",
    "    print(a+b)\n",
    "    print(a-b)\n",
    "    print(a*b)"
   ]
  },
  {
   "cell_type": "code",
   "execution_count": null,
   "id": "4f5587b1",
   "metadata": {},
   "outputs": [],
   "source": [
    "if __name__ == '__main__':\n",
    "    a = int(input())\n",
    "    b = int(input())\n",
    "    print(a//b)\n",
    "    print(a/b)"
   ]
  },
  {
   "cell_type": "code",
   "execution_count": null,
   "id": "78a0cfba",
   "metadata": {},
   "outputs": [],
   "source": [
    "n=int(input())\n",
    "if n%2!=0:\n",
    "    print('Weird')\n",
    "elif 2<=n and n<=5:\n",
    "    print('Not Weird')\n",
    "elif 6<=n and n<=20:\n",
    "    print('Weird')\n",
    "elif 20<n and n<=100:\n",
    "    print('Not Weird')\n",
    "\n"
   ]
  },
  {
   "cell_type": "code",
   "execution_count": null,
   "id": "e7c3a05c",
   "metadata": {},
   "outputs": [],
   "source": [
    "n=int(input())\n",
    "x=[]\n",
    "mark=[]\n",
    "c=0\n",
    "d=[]\n",
    "for y in range(n):\n",
    "    name=input()\n",
    "    marks=float(input())\n",
    "    z=[name,marks]\n",
    "    x.append(z)\n",
    "for a in x:\n",
    "    mark.append(a[1])\n",
    "s=set(mark)\n",
    "v=list(sorted(s))\n",
    "g=v[1]\n",
    "for a in x:\n",
    "    if a[1]==g:\n",
    "        d.append(a[0])\n",
    "e=sorted(d)\n",
    "for m in e:\n",
    "    print (m)"
   ]
  },
  {
   "cell_type": "code",
   "execution_count": null,
   "id": "f2bff7a6",
   "metadata": {},
   "outputs": [],
   "source": [
    "if __name__ == '__main__':\n",
    "    n = int(input())\n",
    "    for i in range(n):\n",
    "        print(i**2)\n"
   ]
  },
  {
   "cell_type": "code",
   "execution_count": null,
   "id": "a5934c55",
   "metadata": {},
   "outputs": [],
   "source": [
    "def is_leap(year):\n",
    "    leap = False\n",
    "    if year%4==0 and (year%400==0 or year%100!=0):\n",
    "        leap=True\n",
    "    else:\n",
    "        leap=False\n",
    "        \n",
    "    \n",
    "    return leap\n",
    "\n",
    "year = int(input())\n",
    "print(is_leap(year))"
   ]
  },
  {
   "cell_type": "code",
   "execution_count": null,
   "id": "13106610",
   "metadata": {},
   "outputs": [],
   "source": [
    "def count_substring(string, sub_string):\n",
    "    count=0\n",
    "    for i in range(0,len(string)):\n",
    "        if string[i:(i+len(sub_string))]==sub_string:\n",
    "            count+=1\n",
    "        \n",
    "    return count\n",
    "\n",
    "if __name__ == '__main__':\n",
    "    string = input().strip()\n",
    "    sub_string = input().strip()\n",
    "    \n",
    "    count = count_substring(string, sub_string)\n",
    "    print(count)"
   ]
  },
  {
   "cell_type": "code",
   "execution_count": null,
   "id": "b4fb60be",
   "metadata": {},
   "outputs": [],
   "source": [
    "a=[]\n",
    "b=[]\n",
    "\n",
    "n=int(input())\n",
    "for m in range(n):\n",
    "    c=[]\n",
    "    i=input().split( )\n",
    "    for g in i:\n",
    "        if g.isdigit():\n",
    "            g=int(g)\n",
    "        c.append(g)\n",
    "    b.append(c)\n",
    "for j in b:\n",
    "    if j[0]=='insert':\n",
    "        a.insert(j[1],j[2])\n",
    "    elif j[0]=='print':\n",
    "        print(a)\n",
    "    elif j[0]=='remove':\n",
    "        a.remove(j[1])\n",
    "    elif j[0]=='append':\n",
    "        a.append(j[1])\n",
    "    elif j[0]=='sort':\n",
    "        a.sort()\n",
    "    elif j[0]=='pop':\n",
    "        a.pop()\n",
    "    elif j[0]=='reverse':\n",
    "        a.reverse()\n"
   ]
  }
 ],
 "metadata": {
  "kernelspec": {
   "display_name": "Python 3 (ipykernel)",
   "language": "python",
   "name": "python3"
  },
  "language_info": {
   "codemirror_mode": {
    "name": "ipython",
    "version": 3
   },
   "file_extension": ".py",
   "mimetype": "text/x-python",
   "name": "python",
   "nbconvert_exporter": "python",
   "pygments_lexer": "ipython3",
   "version": "3.9.6"
  }
 },
 "nbformat": 4,
 "nbformat_minor": 5
}
